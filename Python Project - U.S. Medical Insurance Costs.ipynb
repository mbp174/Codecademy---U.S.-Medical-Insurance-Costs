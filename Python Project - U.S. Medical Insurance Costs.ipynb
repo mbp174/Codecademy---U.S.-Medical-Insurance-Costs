{
 "cells": [
  {
   "cell_type": "markdown",
   "id": "handy-sacrifice",
   "metadata": {},
   "source": [
    "# U.S. Medical Insurance Costs"
   ]
  },
  {
   "cell_type": "markdown",
   "id": "brown-gathering",
   "metadata": {},
   "source": [
    "From the Codecademy course:\n",
    "\n",
    "Project Overview\n",
    "For this project, you will be investigating a medical insurance costs dataset in a .csv file using the Python skills that you have developed. This dataset and its parameters will seem familiar if you have done any of the previous Python projects in the data science path.\n",
    "\n",
    "However, you are now tasked with working with the actual information in the dataset and performing your own independent analysis on real-world data! We will not be providing step-by-step instructions on what to do, but we will provide you with a framework to structure your exploration and analysis.\n",
    "\n",
    "Example Project\n",
    "Example U.S. Medical Insurance Costs Project\n",
    "\n",
    "Project Objectives:\n",
    "Work locally on your own computer\n",
    "Import a dataset into your program\n",
    "Analyze a dataset by building out functions or class methods\n",
    "Use libraries to assist in your analysis\n",
    "Optional: Document and organize your findings\n",
    "Optional: Make predictions about a dataset’s features based on your findings\n",
    "\n",
    "Prerequisites:\n",
    "Python Fundamentals"
   ]
  },
  {
   "cell_type": "markdown",
   "id": "integral-diary",
   "metadata": {},
   "source": [
    "For this project, the objectives I chose to evaluate are the following:\n",
    "1. The average cost of insurance\n",
    "2. The number of records by region\n",
    "3. The average cost of insurance by region\n",
    "4. The average age of people with at least one child"
   ]
  },
  {
   "cell_type": "markdown",
   "id": "hawaiian-telling",
   "metadata": {},
   "source": [
    "## Importing the Data"
   ]
  },
  {
   "cell_type": "code",
   "execution_count": 79,
   "id": "architectural-bones",
   "metadata": {
    "scrolled": true
   },
   "outputs": [],
   "source": [
    "import csv\n",
    "from collections import Counter\n",
    "\n",
    "costs = []\n",
    "regions = []\n",
    "s_east = []\n",
    "s_west = []\n",
    "n_west = []\n",
    "n_east = []\n",
    "with_child = []\n",
    "\n",
    "with open(\"C:\\\\Users\\\\Eric\\Documents\\\\GitHub\\\\python-portfolio-project-starter-files\\\\python-portfolio-project-starter-files\\\\insurance.csv\") as data_set:\n",
    "    data = csv.DictReader(data_set, delimiter=\",\")\n",
    "    for i in data:\n",
    "        costs.append(float(i[\"charges\"]))\n",
    "        regions.append(i[\"region\"])\n",
    "        if i[\"region\"] == \"southeast\":\n",
    "            s_east.append(float(i[\"charges\"]))\n",
    "        elif i[\"region\"] == \"southwest\":\n",
    "            s_west.append(float(i[\"charges\"]))\n",
    "        elif i[\"region\"] == \"northwest\":\n",
    "            n_west.append(float(i[\"charges\"]))\n",
    "        elif i[\"region\"] == \"northeast\":\n",
    "            n_east.append(float(i[\"charges\"]))\n",
    "        else:\n",
    "            pass\n",
    "        if int(i[\"children\"]) >= 1:\n",
    "            with_child.append(int(i[\"age\"]))"
   ]
  },
  {
   "cell_type": "markdown",
   "id": "italian-international",
   "metadata": {},
   "source": [
    "## Determining the Average Insurance Cost"
   ]
  },
  {
   "cell_type": "code",
   "execution_count": 66,
   "id": "mental-beijing",
   "metadata": {},
   "outputs": [
    {
     "name": "stdout",
     "output_type": "stream",
     "text": [
      "The average cost of medical insurance is 13270.42.\n"
     ]
    }
   ],
   "source": [
    "def avg_cost():\n",
    "    return sum(costs)/len(costs)\n",
    "\n",
    "avg_cost = avg_cost()\n",
    "print(\"The average cost of medical insurance is \" + str(format(avg_cost, \".2f\")) + \".\")"
   ]
  },
  {
   "cell_type": "markdown",
   "id": "revolutionary-prague",
   "metadata": {},
   "source": [
    "## Determining the Number of Records by Region"
   ]
  },
  {
   "cell_type": "code",
   "execution_count": 67,
   "id": "center-kruger",
   "metadata": {},
   "outputs": [
    {
     "name": "stdout",
     "output_type": "stream",
     "text": [
      "Counter({'southeast': 364, 'southwest': 325, 'northwest': 325, 'northeast': 324})\n"
     ]
    }
   ],
   "source": [
    "region_count = Counter(regions)\n",
    "print(region_count)"
   ]
  },
  {
   "cell_type": "markdown",
   "id": "pacific-drive",
   "metadata": {},
   "source": [
    "## Determining the Average Cost of Insurance by Region"
   ]
  },
  {
   "cell_type": "code",
   "execution_count": 68,
   "id": "horizontal-defendant",
   "metadata": {},
   "outputs": [
    {
     "name": "stdout",
     "output_type": "stream",
     "text": [
      "The average costs of insurance by region is as follows: Southeast - 14735.41, Southwest - 12346.94, Northwest - 12417.58, Northeast - 13406.38.\n"
     ]
    }
   ],
   "source": [
    "def region_avg(region):\n",
    "    avg = sum(region)/len(region)\n",
    "    return avg\n",
    "\n",
    "print(\"The average costs of insurance by region is as follows: Southeast - \" + str(format(region_avg(s_east), \".2f\")) + \", Southwest - \" + str(format(region_avg(s_west), \".2f\")) + \", Northwest - \" + str(format(region_avg(n_west), \".2f\")) + \", Northeast - \" + str(format(region_avg(n_east), \".2f\")) + \".\") "
   ]
  },
  {
   "cell_type": "markdown",
   "id": "handy-insider",
   "metadata": {},
   "source": [
    "## Determining the Average Age of People with Children."
   ]
  },
  {
   "cell_type": "code",
   "execution_count": 82,
   "id": "resident-design",
   "metadata": {
    "scrolled": true
   },
   "outputs": [
    {
     "name": "stdout",
     "output_type": "stream",
     "text": [
      "The average age of people with at least on child is 39.\n"
     ]
    }
   ],
   "source": [
    "def avg_age_w_child():\n",
    "    avg_age = sum(with_child)/len(with_child)\n",
    "    return avg_age\n",
    "\n",
    "print(\"The average age of people with at least on child is \" + str(int(avg_age_w_child())) + \".\")"
   ]
  },
  {
   "cell_type": "code",
   "execution_count": null,
   "id": "alternate-polymer",
   "metadata": {},
   "outputs": [],
   "source": []
  }
 ],
 "metadata": {
  "kernelspec": {
   "display_name": "Python 3",
   "language": "python",
   "name": "python3"
  },
  "language_info": {
   "codemirror_mode": {
    "name": "ipython",
    "version": 3
   },
   "file_extension": ".py",
   "mimetype": "text/x-python",
   "name": "python",
   "nbconvert_exporter": "python",
   "pygments_lexer": "ipython3",
   "version": "3.8.5"
  }
 },
 "nbformat": 4,
 "nbformat_minor": 5
}
